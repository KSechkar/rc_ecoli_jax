{
 "cells": [
  {
   "cell_type": "code",
   "id": "initial_id",
   "metadata": {
    "collapsed": true,
    "ExecuteTime": {
     "end_time": "2024-04-26T16:35:46.887222Z",
     "start_time": "2024-04-26T16:35:46.884294Z"
    }
   },
   "source": [
    "##plot_runtimes.ipynb\n",
    "# Plot the runtimes of JAX and Matlab simulations\n",
    "\n",
    "## IMPORT PACKAGES\n",
    "import numpy as np\n",
    "import pandas as pd\n",
    "import matplotlib.pyplot as plt\n",
    "import seaborn"
   ],
   "outputs": [],
   "execution_count": 51
  },
  {
   "metadata": {
    "ExecuteTime": {
     "end_time": "2024-04-26T16:35:46.914613Z",
     "start_time": "2024-04-26T16:35:46.888209Z"
    }
   },
   "cell_type": "code",
   "source": [
    "# IMPORT DATA\n",
    "data = pd.read_excel('runtimes_vs_numtrajs.xlsx')\n",
    "data = data.replace([np.inf, -np.inf], np.nan)\n",
    "print(data)"
   ],
   "id": "7c954e782b446c49",
   "outputs": [
    {
     "name": "stdout",
     "output_type": "stream",
     "text": [
      "    Number of stochastic trajectories  Runtime (s) Implementation\n",
      "0                                   1    33.410857         Matlab\n",
      "1                                   3    33.879210         Matlab\n",
      "2                                   6    35.338017         Matlab\n",
      "3                                  12    44.750246         Matlab\n",
      "4                                  24    70.461498         Matlab\n",
      "5                                  48   135.025612         Matlab\n",
      "6                                  96   267.663104         Matlab\n",
      "7                                 192   536.705516         Matlab\n",
      "8                                 384  1141.966364         Matlab\n",
      "9                                   1     7.833861            JAX\n",
      "10                                  3     9.863053            JAX\n",
      "11                                  6    11.093134            JAX\n",
      "12                                 12    10.846163            JAX\n",
      "13                                 24    11.188812            JAX\n",
      "14                                 48    11.885793            JAX\n",
      "15                                 96    12.687584            JAX\n",
      "16                                192    18.809183            JAX\n",
      "17                                384    21.524846            JAX\n"
     ]
    }
   ],
   "execution_count": 52
  },
  {
   "metadata": {
    "ExecuteTime": {
     "end_time": "2024-04-26T16:35:47.301892Z",
     "start_time": "2024-04-26T16:35:46.915307Z"
    }
   },
   "cell_type": "code",
   "source": [
    "# Make a seaborn line plot for Matlab and JAX runtimes\n",
    "\n",
    "# Set the plot size\n",
    "plt.figure(figsize=(2, 2))\n",
    "\n",
    "# Set the plot style\n",
    "seaborn.set_context('paper')\n",
    "seaborn.set_style('whitegrid')\n",
    "\n",
    "\n",
    "# plot data\n",
    "seaborn.lineplot(data=data, \n",
    "                 x='Number of stochastic trajectories', \n",
    "                 y='Runtime (s)', \n",
    "                 hue='Implementation',\n",
    "                 marker='o')\n",
    "\n",
    "# set log x-axis\n",
    "plt.xscale('log')\n",
    "plt.yscale('log')\n",
    "# set x- and y-axis ticks\n",
    "plt.grid(True)\n",
    "plt.xticks([1,3,12,48,192,768],['1','3','12','48','192','768'])\n",
    "plt.yticks([6,24,96,384,1536],['6','24','96','384','1536'])\n",
    "# set x- and y-axis limits\n",
    "plt.xlim(1, 768)\n",
    "plt.ylim(6, 1536)\n",
    "# legend formatting\n",
    "plt.legend(framealpha=1)\n",
    "\n",
    "# save plot\n",
    "plt.savefig('runtimes_vs_numtrajs.pdf', dpi=300, bbox_inches='tight')"
   ],
   "id": "a786fc60f250330d",
   "outputs": [
    {
     "name": "stderr",
     "output_type": "stream",
     "text": [
      "/home/ersat/anaconda3/envs/cell_wsl_kaliyuga/lib/python3.12/site-packages/seaborn/_oldcore.py:1119: FutureWarning: use_inf_as_na option is deprecated and will be removed in a future version. Convert inf values to NaN before operating instead.\n",
      "  with pd.option_context('mode.use_inf_as_na', True):\n",
      "/home/ersat/anaconda3/envs/cell_wsl_kaliyuga/lib/python3.12/site-packages/seaborn/_oldcore.py:1119: FutureWarning: use_inf_as_na option is deprecated and will be removed in a future version. Convert inf values to NaN before operating instead.\n",
      "  with pd.option_context('mode.use_inf_as_na', True):\n"
     ]
    },
    {
     "data": {
      "text/plain": [
       "<Figure size 200x200 with 1 Axes>"
      ],
      "image/png": "[encoded data removed]"
     },
     "metadata": {},
     "output_type": "display_data"
    }
   ],
   "execution_count": 53
  }
 ],
 "metadata": {
  "kernelspec": {
   "display_name": "Python 3",
   "language": "python",
   "name": "python3"
  },
  "language_info": {
   "codemirror_mode": {
    "name": "ipython",
    "version": 2
   },
   "file_extension": ".py",
   "mimetype": "text/x-python",
   "name": "python",
   "nbconvert_exporter": "python",
   "pygments_lexer": "ipython2",
   "version": "2.7.6"
  }
 },
 "nbformat": 4,
 "nbformat_minor": 5
}
