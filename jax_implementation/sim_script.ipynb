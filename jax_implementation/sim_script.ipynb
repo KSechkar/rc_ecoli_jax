{
 "cells": [
  {
   "metadata": {
    "ExecuteTime": {
     "end_time": "2024-07-12T16:22:47.705406Z",
     "start_time": "2024-07-12T16:22:46.946408Z"
    }
   },
   "cell_type": "code",
   "source": [
    "##sim_script.ipynb\n",
    "# Stochastic simulation of an antithetic integral feedback controller's performance\n",
    "\n",
    "## IMPORT PACKAGES\n",
    "import numpy as np\n",
    "import jax\n",
    "import jax.numpy as jnp\n",
    "from bokeh import plotting as bkplot, models as bkmodels, layouts as bklayouts#\n",
    "\n",
    "import time\n",
    "\n",
    "## IMPORT CELL AND CIRCUIT SIMULATORS\n",
    "from jax_cell_simulator import *\n",
    "from het_modules.aif_controller import initialise as aif_init, ode as aif_ode, F_calc as aif_F_calc, v as aif_v\n",
    "\n",
    "## SET UP  jax\n",
    "jax.config.update('jax_platform_name', 'gpu')\n",
    "jax.config.update(\"jax_enable_x64\", True)\n",
    "print(jax.lib.xla_bridge.get_backend().platform)\n",
    "\n",
    "## SET UP bokeh\n",
    "bkplot.output_notebook()"
   ],
   "id": "63d9997c0cb3149a",
   "outputs": [
    {
     "name": "stderr",
     "output_type": "stream",
     "text": [
      "An NVIDIA GPU may be present on this machine, but a CUDA-enabled jaxlib is not installed. Falling back to cpu.\n"
     ]
    },
    {
     "name": "stdout",
     "output_type": "stream",
     "text": [
      "cpu\n"
     ]
    },
    {
     "data": {
      "text/html": [
       "    <style>\n",
       "        .bk-notebook-logo {\n",
       "            display: block;\n",
       "            width: 20px;\n",
       "            height: 20px;\n",
       "            background-image: url(data:image/png;base64,iVBORw0KGgoAAAANSUhEUgAAABQAAAAUCAYAAACNiR0NAAAABHNCSVQICAgIfAhkiAAAAAlwSFlzAAALEgAACxIB0t1+/AAAABx0RVh0U29mdHdhcmUAQWRvYmUgRmlyZXdvcmtzIENTNui8sowAAAOkSURBVDiNjZRtaJVlGMd/1/08zzln5zjP1LWcU9N0NkN8m2CYjpgQYQXqSs0I84OLIC0hkEKoPtiH3gmKoiJDU7QpLgoLjLIQCpEsNJ1vqUOdO7ppbuec5+V+rj4ctwzd8IIbbi6u+8f1539dt3A78eXC7QizUF7gyV1fD1Yqg4JWz84yffhm0qkFqBogB9rM8tZdtwVsPUhWhGcFJngGeWrPzHm5oaMmkfEg1usvLFyc8jLRqDOMru7AyC8saQr7GG7f5fvDeH7Ej8CM66nIF+8yngt6HWaKh7k49Soy9nXurCi1o3qUbS3zWfrYeQDTB/Qj6kX6Ybhw4B+bOYoLKCC9H3Nu/leUTZ1JdRWkkn2ldcCamzrcf47KKXdAJllSlxAOkRgyHsGC/zRday5Qld9DyoM4/q/rUoy/CXh3jzOu3bHUVZeU+DEn8FInkPBFlu3+nW3Nw0mk6vCDiWg8CeJaxEwuHS3+z5RgY+YBR6V1Z1nxSOfoaPa4LASWxxdNp+VWTk7+4vzaou8v8PN+xo+KY2xsw6une2frhw05CTYOmQvsEhjhWjn0bmXPjpE1+kplmmkP3suftwTubK9Vq22qKmrBhpY4jvd5afdRA3wGjFAgcnTK2s4hY0/GPNIb0nErGMCRxWOOX64Z8RAC4oCXdklmEvcL8o0BfkNK4lUg9HTl+oPlQxdNo3Mg4Nv175e/1LDGzZen30MEjRUtmXSfiTVu1kK8W4txyV6BMKlbgk3lMwYCiusNy9fVfvvwMxv8Ynl6vxoByANLTWplvuj/nF9m2+PDtt1eiHPBr1oIfhCChQMBw6Aw0UulqTKZdfVvfG7VcfIqLG9bcldL/+pdWTLxLUy8Qq38heUIjh4XlzZxzQm19lLFlr8vdQ97rjZVOLf8nclzckbcD4wxXMidpX30sFd37Fv/GtwwhzhxGVAprjbg0gCAEeIgwCZyTV2Z1REEW8O4py0wsjeloKoMr6iCY6dP92H6Vw/oTyICIthibxjm/DfN9lVz8IqtqKYLUXfoKVMVQVVJOElGjrnnUt9T9wbgp8AyYKaGlqingHZU/uG2NTZSVqwHQTWkx9hxjkpWDaCg6Ckj5qebgBVbT3V3NNXMSiWSDdGV3hrtzla7J+duwPOToIg42ChPQOQjspnSlp1V+Gjdged7+8UN5CRAV7a5EdFNwCjEaBR27b3W890TE7g24NAP/mMDXRWrGoFPQI9ls/MWO2dWFAar/xcOIImbbpA3zgAAAABJRU5ErkJggg==);\n",
       "        }\n",
       "    </style>\n",
       "    <div>\n",
       "        <a href=\"https://bokeh.org\" target=\"_blank\" class=\"bk-notebook-logo\"></a>\n",
       "        <span id=\"bc4fab17-45c7-4efd-a327-b15f0b865604\">Loading BokehJS ...</span>\n",
       "    </div>\n"
      ]
     },
     "metadata": {},
     "output_type": "display_data"
    },
    {
     "data": {
      "application/javascript": "'use strict';\n(function(root) {\n  function now() {\n    return new Date();\n  }\n\n  const force = true;\n\n  if (typeof root._bokeh_onload_callbacks === \"undefined\" || force === true) {\n    root._bokeh_onload_callbacks = [];\n    root._bokeh_is_loading = undefined;\n  }\n\nconst JS_MIME_TYPE = 'application/javascript';\n  const HTML_MIME_TYPE = 'text/html';\n  const EXEC_MIME_TYPE = 'application/vnd.bokehjs_exec.v0+json';\n  const CLASS_NAME = 'output_bokeh rendered_html';\n\n  /**\n   * Render data to the DOM node\n   */\n  function render(props, node) {\n    const script = document.createElement(\"script\");\n    node.appendChild(script);\n  }\n\n  /**\n   * Handle when an output is cleared or removed\n   */\n  function handleClearOutput(event, handle) {\n    function drop(id) {\n      const view = Bokeh.index.get_by_id(id)\n      if (view != null) {\n        view.model.document.clear()\n        Bokeh.index.delete(view)\n      }\n    }\n\n    const cell = handle.cell;\n\n    const id = cell.output_area._bokeh_element_id;\n    const server_id = cell.output_area._bokeh_server_id;\n\n    // Clean up Bokeh references\n    if (id != null) {\n      drop(id)\n    }\n\n    if (server_id !== undefined) {\n      // Clean up Bokeh references\n      const cmd_clean = \"from bokeh.io.state import curstate; print(curstate().uuid_to_server['\" + server_id + \"'].get_sessions()[0].document.roots[0]._id)\";\n      cell.notebook.kernel.execute(cmd_clean, {\n        iopub: {\n          output: function(msg) {\n            const id = msg.content.text.trim()\n            drop(id)\n          }\n        }\n      });\n      // Destroy server and session\n      const cmd_destroy = \"import bokeh.io.notebook as ion; ion.destroy_server('\" + server_id + \"')\";\n      cell.notebook.kernel.execute(cmd_destroy);\n    }\n  }\n\n  /**\n   * Handle when a new output is added\n   */\n  function handleAddOutput(event, handle) {\n    const output_area = handle.output_area;\n    const output = handle.output;\n\n    // limit handleAddOutput to display_data with EXEC_MIME_TYPE content only\n    if ((output.output_type != \"display_data\") || (!Object.prototype.hasOwnProperty.call(output.data, EXEC_MIME_TYPE))) {\n      return\n    }\n\n    const toinsert = output_area.element.find(\".\" + CLASS_NAME.split(' ')[0]);\n\n    if (output.metadata[EXEC_MIME_TYPE][\"id\"] !== undefined) {\n      toinsert[toinsert.length - 1].firstChild.textContent = output.data[JS_MIME_TYPE];\n      // store reference to embed id on output_area\n      output_area._bokeh_element_id = output.metadata[EXEC_MIME_TYPE][\"id\"];\n    }\n    if (output.metadata[EXEC_MIME_TYPE][\"server_id\"] !== undefined) {\n      const bk_div = document.createElement(\"div\");\n      bk_div.innerHTML = output.data[HTML_MIME_TYPE];\n      const script_attrs = bk_div.children[0].attributes;\n      for (let i = 0; i < script_attrs.length; i++) {\n        toinsert[toinsert.length - 1].firstChild.setAttribute(script_attrs[i].name, script_attrs[i].value);\n        toinsert[toinsert.length - 1].firstChild.textContent = bk_div.children[0].textContent\n      }\n      // store reference to server id on output_area\n      output_area._bokeh_server_id = output.metadata[EXEC_MIME_TYPE][\"server_id\"];\n    }\n  }\n\n  function register_renderer(events, OutputArea) {\n\n    function append_mime(data, metadata, element) {\n      // create a DOM node to render to\n      const toinsert = this.create_output_subarea(\n        metadata,\n        CLASS_NAME,\n        EXEC_MIME_TYPE\n      );\n      this.keyboard_manager.register_events(toinsert);\n      // Render to node\n      const props = {data: data, metadata: metadata[EXEC_MIME_TYPE]};\n      render(props, toinsert[toinsert.length - 1]);\n      element.append(toinsert);\n      return toinsert\n    }\n\n    /* Handle when an output is cleared or removed */\n    events.on('clear_output.CodeCell', handleClearOutput);\n    events.on('delete.Cell', handleClearOutput);\n\n    /* Handle when a new output is added */\n    events.on('output_added.OutputArea', handleAddOutput);\n\n    /**\n     * Register the mime type and append_mime function with output_area\n     */\n    OutputArea.prototype.register_mime_type(EXEC_MIME_TYPE, append_mime, {\n      /* Is output safe? */\n      safe: true,\n      /* Index of renderer in `output_area.display_order` */\n      index: 0\n    });\n  }\n\n  // register the mime type if in Jupyter Notebook environment and previously unregistered\n  if (root.Jupyter !== undefined) {\n    const events = require('base/js/events');\n    const OutputArea = require('notebook/js/outputarea').OutputArea;\n\n    if (OutputArea.prototype.mime_types().indexOf(EXEC_MIME_TYPE) == -1) {\n      register_renderer(events, OutputArea);\n    }\n  }\n  if (typeof (root._bokeh_timeout) === \"undefined\" || force === true) {\n    root._bokeh_timeout = Date.now() + 5000;\n    root._bokeh_failed_load = false;\n  }\n\n  const NB_LOAD_WARNING = {'data': {'text/html':\n     \"<div style='background-color: #fdd'>\\n\"+\n     \"<p>\\n\"+\n     \"BokehJS does not appear to have successfully loaded. If loading BokehJS from CDN, this \\n\"+\n     \"may be due to a slow or bad network connection. Possible fixes:\\n\"+\n     \"</p>\\n\"+\n     \"<ul>\\n\"+\n     \"<li>re-rerun `output_notebook()` to attempt to load from CDN again, or</li>\\n\"+\n     \"<li>use INLINE resources instead, as so:</li>\\n\"+\n     \"</ul>\\n\"+\n     \"<code>\\n\"+\n     \"from bokeh.resources import INLINE\\n\"+\n     \"output_notebook(resources=INLINE)\\n\"+\n     \"</code>\\n\"+\n     \"</div>\"}};\n\n  function display_loaded(error = null) {\n    const el = document.getElementById(\"bc4fab17-45c7-4efd-a327-b15f0b865604\");\n    if (el != null) {\n      const html = (() => {\n        if (typeof root.Bokeh === \"undefined\") {\n          if (error == null) {\n            return \"BokehJS is loading ...\";\n          } else {\n            return \"BokehJS failed to load.\";\n          }\n        } else {\n          const prefix = `BokehJS ${root.Bokeh.version}`;\n          if (error == null) {\n            return `${prefix} successfully loaded.`;\n          } else {\n            return `${prefix} <b>encountered errors</b> while loading and may not function as expected.`;\n          }\n        }\n      })();\n      el.innerHTML = html;\n\n      if (error != null) {\n        const wrapper = document.createElement(\"div\");\n        wrapper.style.overflow = \"auto\";\n        wrapper.style.height = \"5em\";\n        wrapper.style.resize = \"vertical\";\n        const content = document.createElement(\"div\");\n        content.style.fontFamily = \"monospace\";\n        content.style.whiteSpace = \"pre-wrap\";\n        content.style.backgroundColor = \"rgb(255, 221, 221)\";\n        content.textContent = error.stack ?? error.toString();\n        wrapper.append(content);\n        el.append(wrapper);\n      }\n    } else if (Date.now() < root._bokeh_timeout) {\n      setTimeout(() => display_loaded(error), 100);\n    }\n  }\n\n  function run_callbacks() {\n    try {\n      root._bokeh_onload_callbacks.forEach(function(callback) {\n        if (callback != null)\n          callback();\n      });\n    } finally {\n      delete root._bokeh_onload_callbacks\n    }\n    console.debug(\"Bokeh: all callbacks have finished\");\n  }\n\n  function load_libs(css_urls, js_urls, callback) {\n    if (css_urls == null) css_urls = [];\n    if (js_urls == null) js_urls = [];\n\n    root._bokeh_onload_callbacks.push(callback);\n    if (root._bokeh_is_loading > 0) {\n      console.debug(\"Bokeh: BokehJS is being loaded, scheduling callback at\", now());\n      return null;\n    }\n    if (js_urls == null || js_urls.length === 0) {\n      run_callbacks();\n      return null;\n    }\n    console.debug(\"Bokeh: BokehJS not loaded, scheduling load and callback at\", now());\n    root._bokeh_is_loading = css_urls.length + js_urls.length;\n\n    function on_load() {\n      root._bokeh_is_loading--;\n      if (root._bokeh_is_loading === 0) {\n        console.debug(\"Bokeh: all BokehJS libraries/stylesheets loaded\");\n        run_callbacks()\n      }\n    }\n\n    function on_error(url) {\n      console.error(\"failed to load \" + url);\n    }\n\n    for (let i = 0; i < css_urls.length; i++) {\n      const url = css_urls[i];\n      const element = document.createElement(\"link\");\n      element.onload = on_load;\n      element.onerror = on_error.bind(null, url);\n      element.rel = \"stylesheet\";\n      element.type = \"text/css\";\n      element.href = url;\n      console.debug(\"Bokeh: injecting link tag for BokehJS stylesheet: \", url);\n      document.body.appendChild(element);\n    }\n\n    for (let i = 0; i < js_urls.length; i++) {\n      const url = js_urls[i];\n      const element = document.createElement('script');\n      element.onload = on_load;\n      element.onerror = on_error.bind(null, url);\n      element.async = false;\n      element.src = url;\n      console.debug(\"Bokeh: injecting script tag for BokehJS library: \", url);\n      document.head.appendChild(element);\n    }\n  };\n\n  function inject_raw_css(css) {\n    const element = document.createElement(\"style\");\n    element.appendChild(document.createTextNode(css));\n    document.body.appendChild(element);\n  }\n\n  const js_urls = [\"https://cdn.bokeh.org/bokeh/release/bokeh-3.4.0.min.js\", \"https://cdn.bokeh.org/bokeh/release/bokeh-gl-3.4.0.min.js\", \"https://cdn.bokeh.org/bokeh/release/bokeh-widgets-3.4.0.min.js\", \"https://cdn.bokeh.org/bokeh/release/bokeh-tables-3.4.0.min.js\", \"https://cdn.bokeh.org/bokeh/release/bokeh-mathjax-3.4.0.min.js\"];\n  const css_urls = [];\n\n  const inline_js = [    function(Bokeh) {\n      Bokeh.set_log_level(\"info\");\n    },\nfunction(Bokeh) {\n    }\n  ];\n\n  function run_inline_js() {\n    if (root.Bokeh !== undefined || force === true) {\n      try {\n            for (let i = 0; i < inline_js.length; i++) {\n      inline_js[i].call(root, root.Bokeh);\n    }\n\n      } catch (error) {display_loaded(error);throw error;\n      }if (force === true) {\n        display_loaded();\n      }} else if (Date.now() < root._bokeh_timeout) {\n      setTimeout(run_inline_js, 100);\n    } else if (!root._bokeh_failed_load) {\n      console.log(\"Bokeh: BokehJS failed to load within specified timeout.\");\n      root._bokeh_failed_load = true;\n    } else if (force !== true) {\n      const cell = $(document.getElementById(\"bc4fab17-45c7-4efd-a327-b15f0b865604\")).parents('.cell').data().cell;\n      cell.output_area.append_execute_result(NB_LOAD_WARNING)\n    }\n  }\n\n  if (root._bokeh_is_loading === 0) {\n    console.debug(\"Bokeh: BokehJS loaded, going straight to plotting\");\n    run_inline_js();\n  } else {\n    load_libs(css_urls, js_urls, function() {\n      console.debug(\"Bokeh: BokehJS plotting callback run at\", now());\n      run_inline_js();\n    });\n  }\n}(window));",
      "application/vnd.bokehjs_load.v0+json": "'use strict';\n(function(root) {\n  function now() {\n    return new Date();\n  }\n\n  const force = true;\n\n  if (typeof root._bokeh_onload_callbacks === \"undefined\" || force === true) {\n    root._bokeh_onload_callbacks = [];\n    root._bokeh_is_loading = undefined;\n  }\n\n\n  if (typeof (root._bokeh_timeout) === \"undefined\" || force === true) {\n    root._bokeh_timeout = Date.now() + 5000;\n    root._bokeh_failed_load = false;\n  }\n\n  const NB_LOAD_WARNING = {'data': {'text/html':\n     \"<div style='background-color: #fdd'>\\n\"+\n     \"<p>\\n\"+\n     \"BokehJS does not appear to have successfully loaded. If loading BokehJS from CDN, this \\n\"+\n     \"may be due to a slow or bad network connection. Possible fixes:\\n\"+\n     \"</p>\\n\"+\n     \"<ul>\\n\"+\n     \"<li>re-rerun `output_notebook()` to attempt to load from CDN again, or</li>\\n\"+\n     \"<li>use INLINE resources instead, as so:</li>\\n\"+\n     \"</ul>\\n\"+\n     \"<code>\\n\"+\n     \"from bokeh.resources import INLINE\\n\"+\n     \"output_notebook(resources=INLINE)\\n\"+\n     \"</code>\\n\"+\n     \"</div>\"}};\n\n  function display_loaded(error = null) {\n    const el = document.getElementById(\"bc4fab17-45c7-4efd-a327-b15f0b865604\");\n    if (el != null) {\n      const html = (() => {\n        if (typeof root.Bokeh === \"undefined\") {\n          if (error == null) {\n            return \"BokehJS is loading ...\";\n          } else {\n            return \"BokehJS failed to load.\";\n          }\n        } else {\n          const prefix = `BokehJS ${root.Bokeh.version}`;\n          if (error == null) {\n            return `${prefix} successfully loaded.`;\n          } else {\n            return `${prefix} <b>encountered errors</b> while loading and may not function as expected.`;\n          }\n        }\n      })();\n      el.innerHTML = html;\n\n      if (error != null) {\n        const wrapper = document.createElement(\"div\");\n        wrapper.style.overflow = \"auto\";\n        wrapper.style.height = \"5em\";\n        wrapper.style.resize = \"vertical\";\n        const content = document.createElement(\"div\");\n        content.style.fontFamily = \"monospace\";\n        content.style.whiteSpace = \"pre-wrap\";\n        content.style.backgroundColor = \"rgb(255, 221, 221)\";\n        content.textContent = error.stack ?? error.toString();\n        wrapper.append(content);\n        el.append(wrapper);\n      }\n    } else if (Date.now() < root._bokeh_timeout) {\n      setTimeout(() => display_loaded(error), 100);\n    }\n  }\n\n  function run_callbacks() {\n    try {\n      root._bokeh_onload_callbacks.forEach(function(callback) {\n        if (callback != null)\n          callback();\n      });\n    } finally {\n      delete root._bokeh_onload_callbacks\n    }\n    console.debug(\"Bokeh: all callbacks have finished\");\n  }\n\n  function load_libs(css_urls, js_urls, callback) {\n    if (css_urls == null) css_urls = [];\n    if (js_urls == null) js_urls = [];\n\n    root._bokeh_onload_callbacks.push(callback);\n    if (root._bokeh_is_loading > 0) {\n      console.debug(\"Bokeh: BokehJS is being loaded, scheduling callback at\", now());\n      return null;\n    }\n    if (js_urls == null || js_urls.length === 0) {\n      run_callbacks();\n      return null;\n    }\n    console.debug(\"Bokeh: BokehJS not loaded, scheduling load and callback at\", now());\n    root._bokeh_is_loading = css_urls.length + js_urls.length;\n\n    function on_load() {\n      root._bokeh_is_loading--;\n      if (root._bokeh_is_loading === 0) {\n        console.debug(\"Bokeh: all BokehJS libraries/stylesheets loaded\");\n        run_callbacks()\n      }\n    }\n\n    function on_error(url) {\n      console.error(\"failed to load \" + url);\n    }\n\n    for (let i = 0; i < css_urls.length; i++) {\n      const url = css_urls[i];\n      const element = document.createElement(\"link\");\n      element.onload = on_load;\n      element.onerror = on_error.bind(null, url);\n      element.rel = \"stylesheet\";\n      element.type = \"text/css\";\n      element.href = url;\n      console.debug(\"Bokeh: injecting link tag for BokehJS stylesheet: \", url);\n      document.body.appendChild(element);\n    }\n\n    for (let i = 0; i < js_urls.length; i++) {\n      const url = js_urls[i];\n      const element = document.createElement('script');\n      element.onload = on_load;\n      element.onerror = on_error.bind(null, url);\n      element.async = false;\n      element.src = url;\n      console.debug(\"Bokeh: injecting script tag for BokehJS library: \", url);\n      document.head.appendChild(element);\n    }\n  };\n\n  function inject_raw_css(css) {\n    const element = document.createElement(\"style\");\n    element.appendChild(document.createTextNode(css));\n    document.body.appendChild(element);\n  }\n\n  const js_urls = [\"https://cdn.bokeh.org/bokeh/release/bokeh-3.4.0.min.js\", \"https://cdn.bokeh.org/bokeh/release/bokeh-gl-3.4.0.min.js\", \"https://cdn.bokeh.org/bokeh/release/bokeh-widgets-3.4.0.min.js\", \"https://cdn.bokeh.org/bokeh/release/bokeh-tables-3.4.0.min.js\", \"https://cdn.bokeh.org/bokeh/release/bokeh-mathjax-3.4.0.min.js\"];\n  const css_urls = [];\n\n  const inline_js = [    function(Bokeh) {\n      Bokeh.set_log_level(\"info\");\n    },\nfunction(Bokeh) {\n    }\n  ];\n\n  function run_inline_js() {\n    if (root.Bokeh !== undefined || force === true) {\n      try {\n            for (let i = 0; i < inline_js.length; i++) {\n      inline_js[i].call(root, root.Bokeh);\n    }\n\n      } catch (error) {display_loaded(error);throw error;\n      }if (force === true) {\n        display_loaded();\n      }} else if (Date.now() < root._bokeh_timeout) {\n      setTimeout(run_inline_js, 100);\n    } else if (!root._bokeh_failed_load) {\n      console.log(\"Bokeh: BokehJS failed to load within specified timeout.\");\n      root._bokeh_failed_load = true;\n    } else if (force !== true) {\n      const cell = $(document.getElementById(\"bc4fab17-45c7-4efd-a327-b15f0b865604\")).parents('.cell').data().cell;\n      cell.output_area.append_execute_result(NB_LOAD_WARNING)\n    }\n  }\n\n  if (root._bokeh_is_loading === 0) {\n    console.debug(\"Bokeh: BokehJS loaded, going straight to plotting\");\n    run_inline_js();\n  } else {\n    load_libs(css_urls, js_urls, function() {\n      console.debug(\"Bokeh: BokehJS plotting callback run at\", now());\n      run_inline_js();\n    });\n  }\n}(window));"
     },
     "metadata": {},
     "output_type": "display_data"
    }
   ],
   "execution_count": 1
  },
  {
   "metadata": {
    "ExecuteTime": {
     "end_time": "2024-07-12T16:22:47.709961Z",
     "start_time": "2024-07-12T16:22:47.706657Z"
    }
   },
   "cell_type": "code",
   "source": [
    "## SPECIFY number of stochastic trajectories\n",
    "num_trajs = 48\n",
    "timer = time.time()\n",
    "\n",
    "## INITIALISE cell model\n",
    "cellmodel_auxil = CellModelAuxiliary()  # auxiliary tools for simulating the model and plotting simulation outcomes\n",
    "par = cellmodel_auxil.default_params()  # get default parameter values\n",
    "init_conds = cellmodel_auxil.default_init_conds(par)  # get default initial conditions\n",
    "\n",
    "## LOAD synthetic gene circuit - WITH HYBRID SIMULATION SUPPORT\n",
    "ode_with_circuit, circuit_F_calc, par, init_conds, circuit_genes, circuit_miscs, circuit_name2pos, circuit_styles, circuit_v = cellmodel_auxil.add_circuit(\n",
    "    aif_init,\n",
    "    aif_ode,\n",
    "    aif_F_calc,\n",
    "    par, init_conds,\n",
    "    # propensity calculation function for hybrid simulations\n",
    "    aif_v)\n",
    "\n",
    "## PARAMETERISE the circuit and culture conditions\n",
    "init_conds['s'] = 0.5 # nutrient quality\n",
    "# disturbance parameters\n",
    "par['c_dist'] = 100  # gene copy number\n",
    "par['a_dist'] = 500  # promoter strength\n",
    "t_dist_on_since_stoch = 7.5 # disturbance timing\n",
    "# Integral controller parameters for sensor protein-DNA binding\n",
    "par['K_dna(anti)-sens'] = 7000\n",
    "par['eta_dna(anti)-sens'] = 1\n",
    "# Integral controller parameters for sensor protein-DNA binding\n",
    "par['K_dna(amp)-act'] = 700\n",
    "par['eta_dna(amp)-act'] = 1\n",
    "# Integral controller parameters for actuator-annihilator binding\n",
    "par['kb_anti'] = 300\n",
    "# Sensor gene concentration and promoter strength\n",
    "par['c_sens'] = 100\n",
    "par['a_sens'] = 50\n",
    "# Annihilator gene concentration and promoter strength\n",
    "par['c_anti'] = 100\n",
    "par['a_anti'] = 800\n",
    "# Actuator gene concentration and promoter strength\n",
    "par['c_act'] = 100\n",
    "par['a_act'] = 400\n",
    "# Integral controller amplifier gene concentration and promoter strength\n",
    "par['c_amp'] = 100\n",
    "par['a_amp'] = 4000\n",
    "\n",
    "## DEFINE DETERMINISTIC simulation parameters\n",
    "tf = (0, 24)  # simulation time frame\n",
    "rtol = 1e-6  # relative tolerance for the ODE solver\n",
    "atol = 1e-6  # absolute tolerance for the ODE solver\n",
    "\n",
    "## DEFINE STOCHASTIC simulation parameters\n",
    "stoch_sim_duration=15 # simulation time frame\n",
    "tau_savetimestep = 1e-3  # save time step a multiple of tau\n",
    "tau = 1e-6  # simulation time step\n",
    "tau_odestep = 1e-7  # number of ODE integration steps in a single tau-leap step (smaller than tau)"
   ],
   "id": "5ab6d4822089f7fb",
   "outputs": [],
   "execution_count": 2
  },
  {
   "metadata": {
    "ExecuteTime": {
     "end_time": "2024-07-12T16:24:53.377522Z",
     "start_time": "2024-07-12T16:22:47.710791Z"
    }
   },
   "cell_type": "code",
   "source": [
    "## CLOSED LOOP: RUN DETERMINISTIC simulation\n",
    "sol = ode_sim(par,  # dictionary with model parameters\n",
    "              ode_with_circuit,  # ODE function for the cell with synthetic circuit\n",
    "              cellmodel_auxil.x0_from_init_conds(init_conds, circuit_genes, circuit_miscs),\n",
    "              # initial condition VECTOR\n",
    "              len(circuit_genes), len(circuit_miscs), circuit_name2pos,\n",
    "              # dictionaries with circuit gene and miscellaneous specie names, species name to vector position decoder\n",
    "              cellmodel_auxil.synth_gene_params_for_jax(par, circuit_genes),\n",
    "              # synthetic gene parameters for calculating k values\n",
    "              tf, jnp.arange(tf[0], tf[1] + tau_savetimestep/2, tau_savetimestep),\n",
    "              rtol=rtol,\n",
    "              atol=atol)  # simulation parameters: when to save the system's state, relative and absolute tolerances)   # simulation parameters: time frame, save time step, relative and absolute tolerances\n",
    "xs = np.array(sol.ys)\n",
    "ts = np.array(sol.ts)\n",
    "mRNA_count_scales, S, x0_tauleap, circuit_synpos2genename, keys0 = tauleap_sim_prep(par, len(circuit_genes),\n",
    "                                                                                    len(circuit_miscs),\n",
    "                                                                                    circuit_name2pos, xs[-1, :],\n",
    "                                                                                    key_seeds=jnp.array([0]))\n",
    "ts_jnp, xs_jnp, final_keys = tauleap_sim(par,  # dictionary with model parameters\n",
    "                                         circuit_v,  # circuit reaction propensity calculator\n",
    "                                         x0_tauleap,\n",
    "                                          # initial condition VECTOR (processed to make sure random variables are appropriate integers)\n",
    "                                         len(circuit_genes), len(circuit_miscs), circuit_name2pos,\n",
    "                                         cellmodel_auxil.synth_gene_params_for_jax(par, circuit_genes),\n",
    "                                         # synthetic gene parameters for calculating k values\n",
    "                                         tf, tau, tau_odestep, tau_savetimestep,\n",
    "                                         # simulation parameters: time frame, tau leap step size, number of ode integration steps in a single tau leap step\n",
    "                                         mRNA_count_scales, S, circuit_synpos2genename,\n",
    "                                         # mRNA count scaling factor, stoichiometry matrix, synthetic gene number in list of synth. genes to name decoder\n",
    "                                         keys0)\n",
    "xs=np.array(xs_jnp[0,:,:])\n",
    "ts=np.array(ts_jnp)\n",
    "det_steady_x = xs[-1, :]\n",
    "# print('closed loop deterministic simulation complete')\n",
    "del ts_jnp, xs_jnp, final_keys"
   ],
   "id": "692ba1b54dfc3e8c",
   "outputs": [],
   "execution_count": 3
  },
  {
   "metadata": {
    "ExecuteTime": {
     "end_time": "2024-07-12T16:24:56.109831Z",
     "start_time": "2024-07-12T16:24:53.379799Z"
    }
   },
   "cell_type": "code",
   "source": [
    "## CLOSED LOOP: RUN STOCHASTIC simulation\n",
    "tf_stoch = (tf[1],tf[1]+stoch_sim_duration) # simulation time frame\n",
    "par['t_dist_on']=tf_stoch[0]+t_dist_on_since_stoch # disturbance timing\n",
    "mRNA_count_scales, S, x0_tauleap, circuit_synpos2genename, keys0 = tauleap_sim_prep(par, len(circuit_genes),\n",
    "                                                                                    len(circuit_miscs),\n",
    "                                                                                    circuit_name2pos, det_steady_x,\n",
    "                                                                                    key_seeds=jnp.arange(0,num_trajs,1))\n",
    "ts_jnp, xs_jnp, final_keys = tauleap_sim(par,  # dictionary with model parameters\n",
    "                                         circuit_v,  # circuit reaction propensity calculator\n",
    "                                         x0_tauleap,\n",
    "                                          # initial condition VECTOR (processed to make sure random variables are appropriate integers)\n",
    "                                         len(circuit_genes), len(circuit_miscs), circuit_name2pos,\n",
    "                                         cellmodel_auxil.synth_gene_params_for_jax(par, circuit_genes),\n",
    "                                         # synthetic gene parameters for calculating k values\n",
    "                                         tf_stoch, tau, tau_odestep, tau_savetimestep,\n",
    "                                         # simulation parameters: time frame, tau leap step size, number of ode integration steps in a single tau leap step\n",
    "                                         mRNA_count_scales, S, circuit_synpos2genename,\n",
    "                                         # mRNA count scaling factor, stoichiometry matrix, synthetic gene number in list of synth. genes to name decoder\n",
    "                                         keys0)  # starting random number generation key\n",
    "# concatenate the results with the deterministic simulation\n",
    "ts = np.concatenate((ts, np.array(ts_jnp)))\n",
    "xs_first = np.concatenate(\n",
    "    (xs, np.array(xs_jnp[1])))  # getting the results from the first random number generator key in vmap\n",
    "xss = np.concatenate((xs * np.ones((keys0.shape[0], 1, 1)), np.array(xs_jnp)),\n",
    "                     axis=1)  # getting the results from all vmapped trajectories\n",
    "# print('closed loop hybrid simulation complete')\n",
    "del ts_jnp, xs_jnp, final_keys"
   ],
   "id": "da432ce3baace6a3",
   "outputs": [],
   "execution_count": 4
  },
  {
   "metadata": {
    "ExecuteTime": {
     "end_time": "2024-07-12T16:24:56.323791Z",
     "start_time": "2024-07-12T16:24:56.110876Z"
    }
   },
   "cell_type": "code",
   "source": [
    "## CLOSED LOOP: RECORD TRAJECTORIES\n",
    "psens_trajs = xss[:, :, circuit_name2pos['p_sens']]  # sensor protein concentrations\n",
    "ls=np.zeros_like(psens_trajs)\n",
    "Ds=np.zeros_like(psens_trajs)\n",
    "for i in range(0,num_trajs):\n",
    "    _, ls_i, _, _, _, _, Ds_i = cellmodel_auxil.get_e_l_Fr_nu_psi_T_D_Dnohet(ts, xss[i], par, circuit_genes, circuit_miscs,\n",
    "                                                               circuit_name2pos)\n",
    "    ls[i,:]=ls_i\n",
    "    Ds[i,:]=Ds_i"
   ],
   "id": "6819d00495f58c0e",
   "outputs": [],
   "execution_count": 5
  },
  {
   "metadata": {
    "ExecuteTime": {
     "end_time": "2024-07-12T16:24:57.449213Z",
     "start_time": "2024-07-12T16:24:56.324674Z"
    }
   },
   "cell_type": "code",
   "source": [
    "## OPEN LOOP: RUN DETERMINISTIC simulation\n",
    "# controller gene concentrations set to zero\n",
    "par_openloop = par.copy()\n",
    "par_openloop['c_anti'] = 0\n",
    "par_openloop['c_act'] = 0\n",
    "par_openloop['c_amp'] = 0\n",
    "sol = ode_sim(par_openloop,  # dictionary with model parameters\n",
    "              ode_with_circuit,  # ODE function for the cell with synthetic circuit\n",
    "              cellmodel_auxil.x0_from_init_conds(init_conds, circuit_genes, circuit_miscs),\n",
    "              # initial condition VECTOR\n",
    "              len(circuit_genes), len(circuit_miscs), circuit_name2pos,\n",
    "              # dictionaries with circuit gene and miscellaneous specie names, species name to vector position decoder\n",
    "              cellmodel_auxil.synth_gene_params_for_jax(par, circuit_genes),\n",
    "              # synthetic gene parameters for calculating k values\n",
    "              tf, jnp.arange(tf[0], tf[1] + tau_savetimestep/2, tau_savetimestep),\n",
    "              rtol=rtol,\n",
    "              atol=atol)  # simulation parameters: when to save the system's state, relative and absolute tolerances)   # simulation parameters: time frame, save time step, relative and absolute tolerances\n",
    "ts_openloop = np.array(sol.ts)\n",
    "xs_openloop = np.array(sol.ys)\n",
    "det_steady_x_openloop = sol.ys[-1, :]\n",
    "print('open loop deterministic simulation complete')"
   ],
   "id": "5e8d56eed5dde3d4",
   "outputs": [
    {
     "name": "stdout",
     "output_type": "stream",
     "text": [
      "open loop deterministic simulation complete\n"
     ]
    }
   ],
   "execution_count": 6
  },
  {
   "metadata": {
    "ExecuteTime": {
     "end_time": "2024-07-12T16:24:59.915576Z",
     "start_time": "2024-07-12T16:24:57.450352Z"
    }
   },
   "cell_type": "code",
   "source": [
    "## OPEN LOOP: RUN STOCHASTIC simulation\n",
    "mRNA_count_scales, S, x0_tauleap, circuit_synpos2genename, keys0 = tauleap_sim_prep(par_openloop, len(circuit_genes),\n",
    "                                                                                    len(circuit_miscs),\n",
    "                                                                                    circuit_name2pos, det_steady_x_openloop,\n",
    "                                                                                    key_seeds=jnp.arange(num_trajs,2*num_trajs,1))\n",
    "ts_jnp_openloop, xs_jnp_openloop, final_keys = tauleap_sim(par_openloop,  # dictionary with model parameters\n",
    "                                            circuit_v,  # circuit reaction propensity calculator\n",
    "                                            x0_tauleap,\n",
    "                                            # initial condition VECTOR (processed to make sure random variables are appropriate integers)\n",
    "                                            len(circuit_genes), len(circuit_miscs), circuit_name2pos,\n",
    "                                            cellmodel_auxil.synth_gene_params_for_jax(par_openloop, circuit_genes),\n",
    "                                            # synthetic gene parameters for calculating k values\n",
    "                                            tf_stoch, tau, tau_odestep, tau_savetimestep,\n",
    "                                            # simulation parameters: time frame, tau leap step size, number of ode integration steps in a single tau leap step\n",
    "                                            mRNA_count_scales, S, circuit_synpos2genename,\n",
    "                                            # mRNA count scaling factor, stoichiometry matrix, synthetic gene number in list of synth. genes to name decoder\n",
    "                                            keys0)  # starting random number generation key\n",
    "# concatenate the results with the deterministic simulation\n",
    "ts_openloop = np.concatenate((ts_openloop, np.array(ts_jnp_openloop)))\n",
    "xs_first_openloop = np.concatenate(\n",
    "    (xs_openloop, np.array(xs_jnp_openloop[1])))  # getting the results from the first random number generator key in vmap\n",
    "xss_openloop = np.concatenate((xs_openloop * np.ones((keys0.shape[0], 1, 1)), np.array(xs_jnp_openloop)),\n",
    "                              axis=1)  # getting the results from all vmapped trajectories\n",
    "print('open loop hybrid simulation complete')\n",
    "del ts_jnp_openloop, xs_jnp_openloop, final_keys"
   ],
   "id": "f55ee84469138bfb",
   "outputs": [
    {
     "name": "stdout",
     "output_type": "stream",
     "text": [
      "open loop hybrid simulation complete\n"
     ]
    }
   ],
   "execution_count": 7
  },
  {
   "metadata": {
    "ExecuteTime": {
     "end_time": "2024-07-12T16:24:59.927609Z",
     "start_time": "2024-07-12T16:24:59.916608Z"
    }
   },
   "cell_type": "code",
   "source": [
    "## OPEN LOOP: RECORD TRAJECTORIES\n",
    "psens_trajs_openloop = xss_openloop[:, :, circuit_name2pos['p_sens']]  # sensor protein concentrations\n",
    "ls_openloop = np.zeros_like(psens_trajs_openloop)\n",
    "Ds_openloop = np.zeros_like(psens_trajs_openloop)\n",
    "for i in range(0, num_trajs):\n",
    "    _, ls_i, _, _, _, _, Ds_i = cellmodel_auxil.get_e_l_Fr_nu_psi_T_D_Dnohet(ts_openloop, xss_openloop[i], par_openloop,\n",
    "                                                               circuit_genes, circuit_miscs, circuit_name2pos)\n",
    "    ls_openloop[i, :] = ls_i\n",
    "    Ds_openloop[i, :] = Ds_i\n",
    "\n",
    "print('Simulation complete in: ', time.time()-timer,' seconds')"
   ],
   "id": "8efcbfd4ae9a2fe7",
   "outputs": [
    {
     "name": "stdout",
     "output_type": "stream",
     "text": [
      "Simulation complete in:  132.21795082092285  seconds\n"
     ]
    }
   ],
   "execution_count": 8
  },
  {
   "metadata": {
    "ExecuteTime": {
     "end_time": "2024-07-12T16:24:59.939386Z",
     "start_time": "2024-07-12T16:24:59.928490Z"
    }
   },
   "cell_type": "code",
   "source": [
    "## FIND PRE-DISTURBANCE MEANS TO PLOT RELATIVE TRAJECTORIES\n",
    "ref_predist_times=(5,7.5)\n",
    "# p_sens - closed loop\n",
    "ref_psens = np.mean(psens_trajs[:,(ts>=ref_predist_times[0]+tf_stoch[0]) & (ts<=ref_predist_times[1]+tf_stoch[0])])\n",
    "# p_sens - open loop\n",
    "ref_psens_openloop = np.mean(psens_trajs_openloop[:,(ts_openloop>=ref_predist_times[0]+tf_stoch[0]) & (ts_openloop<=ref_predist_times[1]+tf_stoch[0])])\n",
    "# l - closed loop\n",
    "ref_l = np.mean(ls[:,(ts>=ref_predist_times[0]+tf_stoch[0]) & (ts<=ref_predist_times[1]+tf_stoch[0])])\n",
    "# l - open loop\n",
    "ref_l_openloop = np.mean(ls_openloop[:,(ts_openloop>=ref_predist_times[0]+tf_stoch[0]) & (ts_openloop<=ref_predist_times[1]+tf_stoch[0])])\n",
    "# D - closed loop\n",
    "ref_D = np.mean(Ds[:,(ts>=ref_predist_times[0]+tf_stoch[0]) & (ts<=ref_predist_times[1]+tf_stoch[0])])\n",
    "# D - open loop\n",
    "ref_D_openloop = np.mean(Ds_openloop[:,(ts_openloop>=ref_predist_times[0]+tf_stoch[0]) & (ts_openloop<=ref_predist_times[1]+tf_stoch[0])])"
   ],
   "id": "8d7283f9c136649c",
   "outputs": [
    {
     "name": "stderr",
     "output_type": "stream",
     "text": [
      "/home/ersat/anaconda3/envs/cell_wsl_kaliyuga/lib/python3.12/site-packages/numpy/core/fromnumeric.py:3504: RuntimeWarning: Mean of empty slice.\n",
      "  return _methods._mean(a, axis=axis, dtype=dtype,\n",
      "/home/ersat/anaconda3/envs/cell_wsl_kaliyuga/lib/python3.12/site-packages/numpy/core/_methods.py:129: RuntimeWarning: invalid value encountered in scalar divide\n",
      "  ret = ret.dtype.type(ret / rcount)\n"
     ]
    }
   ],
   "execution_count": 9
  },
  {
   "metadata": {
    "ExecuteTime": {
     "end_time": "2024-07-12T16:25:00.187511Z",
     "start_time": "2024-07-12T16:24:59.940572Z"
    }
   },
   "cell_type": "code",
   "source": [
    "## PLOT: SENSOR PROTEIN concentration\n",
    "psens_plot = bkplot.figure(title='Rel. sensor prot. conc.',\n",
    "                           x_axis_label='Time since disturbance (h)',\n",
    "                           y_axis_label='p_sens:p_sens,0',\n",
    "                           width=400,\n",
    "                           height=400,\n",
    "                           x_range=(-2.5,7.5),\n",
    "                           y_range=(0.8, 1.2))\n",
    "# closed loop trajectories\n",
    "for i in range(0, num_trajs):\n",
    "    psens_plot.line(ts - tf_stoch[0] - t_dist_on_since_stoch,\n",
    "                    psens_trajs[i]/ref_psens,\n",
    "                    line_width=1, color='blue', alpha=0.02)\n",
    "# open loop trajectories\n",
    "for i in range(0, num_trajs):\n",
    "    psens_plot.line(ts_openloop - tf_stoch[0] - t_dist_on_since_stoch,\n",
    "                    psens_trajs_openloop[i]/ref_psens_openloop,\n",
    "                    line_width=1, color='red', alpha=0.02)\n",
    "# closed loop mean\n",
    "psens_plot.line(ts - tf_stoch[0] - t_dist_on_since_stoch,\n",
    "                np.mean(psens_trajs, axis=0)/ref_psens,\n",
    "                line_width=2, color='blue', legend_label='closed loop')\n",
    "# open loop mean\n",
    "psens_plot.line(ts_openloop - tf_stoch[0] - t_dist_on_since_stoch,\n",
    "                np.mean(psens_trajs_openloop, axis=0)/ref_psens_openloop,\n",
    "                line_width=2, color='red', legend_label='open loop')\n",
    "\n",
    "## PLOT: CELL GROWTH RATE\n",
    "l_plot = bkplot.figure(title='Rel. cell growth rate',\n",
    "                           x_axis_label='Time since disturbance (h)',\n",
    "                           y_axis_label='λ:λ_0',\n",
    "                           width=400,\n",
    "                           height=400,\n",
    "                           x_range=(-2.5, 7.5),\n",
    "                           y_range=(0.8, 1.2))\n",
    "# closed loop trajectories\n",
    "for i in range(0, num_trajs):\n",
    "    l_plot.line(ts - tf_stoch[0] - t_dist_on_since_stoch,\n",
    "                    ls[i]/ref_l,\n",
    "                    line_width=1, color='blue', alpha=0.01)\n",
    "# open loop trajectories\n",
    "for i in range(0, num_trajs):\n",
    "    l_plot.line(ts_openloop - tf_stoch[0] - t_dist_on_since_stoch,\n",
    "                    ls[i]/ref_l_openloop,\n",
    "                    line_width=1, color='red', alpha=0.01)\n",
    "# closed loop mean\n",
    "l_plot.line(ts - tf_stoch[0] - t_dist_on_since_stoch,\n",
    "                np.mean(ls, axis=0)/ref_l,\n",
    "                line_width=2, color='blue', legend_label='closed loop')\n",
    "# open loop mean\n",
    "l_plot.line(ts_openloop - tf_stoch[0] - t_dist_on_since_stoch,\n",
    "                np.mean(ls_openloop, axis=0)/ref_l_openloop,\n",
    "                line_width=2, color='red', legend_label='open loop')\n",
    "\n",
    "## PLOT: RC DENOMINATOR\n",
    "D_plot = bkplot.figure(title='Rel. RC denominator',\n",
    "                           x_axis_label='Time since disturbance (h)',\n",
    "                           y_axis_label='D:D_0',\n",
    "                           width=400,\n",
    "                           height=400,\n",
    "                           x_range=(-2.5, 7.5),\n",
    "                           y_range=(0.8, 1.2))\n",
    "# closed loop trajectories\n",
    "for i in range(0, num_trajs):\n",
    "    D_plot.line(ts - tf_stoch[0] - t_dist_on_since_stoch,\n",
    "                    Ds[i]/ref_D,\n",
    "                    line_width=1, color='blue', alpha=0.01)\n",
    "# open loop trajectories\n",
    "for i in range(0, num_trajs):\n",
    "    D_plot.line(ts_openloop - tf_stoch[0] - t_dist_on_since_stoch,\n",
    "                    Ds_openloop[i]/ref_D_openloop,\n",
    "                    line_width=1, color='red', alpha=0.01)\n",
    "# closed loop mean\n",
    "D_plot.line(ts - tf_stoch[0] - t_dist_on_since_stoch,\n",
    "                np.mean(Ds, axis=0)/ref_D,\n",
    "                line_width=2, color='blue', legend_label='closed loop')\n",
    "# open loop mean\n",
    "D_plot.line(ts_openloop - tf_stoch[0] - t_dist_on_since_stoch,\n",
    "                np.mean(Ds_openloop, axis=0)/ref_D_openloop,\n",
    "                line_width=2, color='red', legend_label='open loop')\n",
    "\n",
    "bkplot.output_file('aif_plots.html')\n",
    "bkplot.save(bklayouts.grid([[psens_plot, l_plot, D_plot]]))"
   ],
   "id": "d41cac7d9d7e5105",
   "outputs": [
    {
     "data": {
      "text/plain": [
       "'/mnt/c/Users/ersat/CODE/rc_ecoli_python/jax_implementation/aif_plots.html'"
      ]
     },
     "execution_count": 10,
     "metadata": {},
     "output_type": "execute_result"
    }
   ],
   "execution_count": 10
  }
 ],
 "metadata": {
  "kernelspec": {
   "display_name": "Python 3",
   "language": "python",
   "name": "python3"
  },
  "language_info": {
   "codemirror_mode": {
    "name": "ipython",
    "version": 2
   },
   "file_extension": ".py",
   "mimetype": "text/x-python",
   "name": "python",
   "nbconvert_exporter": "python",
   "pygments_lexer": "ipython2",
   "version": "2.7.6"
  }
 },
 "nbformat": 4,
 "nbformat_minor": 5
}
